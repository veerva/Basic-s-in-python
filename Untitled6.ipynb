{
 "cells": [
  {
   "cell_type": "code",
   "execution_count": 5,
   "metadata": {},
   "outputs": [
    {
     "name": "stdout",
     "output_type": "stream",
     "text": [
      "[0, 2, 1]\n",
      "01\n"
     ]
    }
   ],
   "source": [
    "\"\"\"\" reverse a number using strinng concatination and using list.reverse method\"\"\"\n",
    "a = 10\n",
    "b = 120\n",
    "res = [int(i) for i in str(b)]\n",
    "res.reverse()\n",
    "print(res)\n",
    "print(str(a)[::-1])"
   ]
  },
  {
   "cell_type": "code",
   "execution_count": 26,
   "metadata": {},
   "outputs": [
    {
     "name": "stdout",
     "output_type": "stream",
     "text": [
      "enter the number: 1634\n",
      "yes it is amstorng\n"
     ]
    }
   ],
   "source": [
    "\"\"\"\" To find amstrong numbr \"\"\"\n",
    "a  = int(input(\"enter the number: \"))\n",
    "temp  = a\n",
    "sum1 = 0\n",
    "while(temp > 0):\n",
    "    digit = temp%10\n",
    "    sum1 += digit ** 3\n",
    "    temp//=10\n",
    "if(a == sum1):\n",
    "    print(\"yes it is amstorng\")\n",
    "else:\n",
    "    print(\"its not\")\n"
   ]
  },
  {
   "cell_type": "code",
   "execution_count": 1,
   "metadata": {},
   "outputs": [
    {
     "name": "stdout",
     "output_type": "stream",
     "text": [
      "enter the number: 1\n",
      "enter the last numb99\n",
      "1\n",
      "25\n",
      "36\n"
     ]
    }
   ],
   "source": [
    "\"\"\"\" To find amstrong numbr from 100 to 1000\"\"\"\n",
    "\n",
    "starts  = int(input(\"enter the number: \"))\n",
    "ends = int(input(\"enter the last numb\"))\n",
    "for a in range(starts, ends+1):\n",
    "    temp  = a\n",
    "    sum1 = 0\n",
    "    while(temp > 0):\n",
    "        digit = temp%10\n",
    "        sum1 += digit ** 2\n",
    "        temp//=10\n",
    "        if(a == sum1):\n",
    "            print(a)\n"
   ]
  },
  {
   "cell_type": "code",
   "execution_count": 5,
   "metadata": {},
   "outputs": [
    {
     "name": "stdout",
     "output_type": "stream",
     "text": [
      "enter the number: 5\n",
      "yea, you entered a prime number\n"
     ]
    }
   ],
   "source": [
    "\"\"\" To find a prime number\"\"\"\n",
    "i,temp = 0,0\n",
    "n = int(input(\"enter the number: \"))\n",
    "for i in range(2,n//2):\n",
    "    if n%i == 0:\n",
    "        temp=1\n",
    "        break\n",
    "if temp == 1:\n",
    "    print(\"its not a prime number\")\n",
    "else:\n",
    "    print(\"yea, you entered a prime number\")\n",
    "    "
   ]
  },
  {
   "cell_type": "code",
   "execution_count": 7,
   "metadata": {},
   "outputs": [
    {
     "name": "stdout",
     "output_type": "stream",
     "text": [
      "enter the finbonaci nummber5\n",
      "0\n",
      "1\n",
      "1\n",
      "2\n",
      "3\n"
     ]
    }
   ],
   "source": [
    "\"\"\" to find fibonaci series \"\"\"\n",
    "first,secound = 0,1\n",
    "n = int(input(\"enter the finbonaci nummber\"))\n",
    "for i in range(0,n):\n",
    "    if i <= 1:\n",
    "        result = i\n",
    "    else:\n",
    "        result = first + secound\n",
    "        first = secound\n",
    "        secound = result\n",
    "    print(result)    \n",
    "        \n"
   ]
  },
  {
   "cell_type": "code",
   "execution_count": 11,
   "metadata": {},
   "outputs": [
    {
     "name": "stdout",
     "output_type": "stream",
     "text": [
      "enter 1st number: 3\n",
      "enter 2nd number: 2\n",
      "enter 3rd number: 1\n",
      "a is the greatest number\n"
     ]
    }
   ],
   "source": [
    "\"\"\" find the greatest number \"\"\"\n",
    "a = int(input(\"enter 1st number: \"))\n",
    "b = int(input(\"enter 2nd number: \"))\n",
    "c = int(input(\"enter 3rd number: \"))\n",
    "if a>b and a>c:\n",
    "    print(\"a is the greatest number\")\n",
    "elif b>a and b > c:\n",
    "    print(\"b is the greastes number\")\n",
    "elif c>a and c>b:\n",
    "    print(\"c is greatest number\")"
   ]
  },
  {
   "cell_type": "code",
   "execution_count": 18,
   "metadata": {},
   "outputs": [
    {
     "name": "stdout",
     "output_type": "stream",
     "text": [
      "give the number1010101\n",
      "its a binary number\n"
     ]
    }
   ],
   "source": [
    "n = int(input(\"give the number\"))\n",
    "while(n>0):\n",
    "    j = n%10\n",
    "    if j!=0 and j!=1:\n",
    "        print(\"its not a binary number\")\n",
    "        break\n",
    "    n = n//10\n",
    "    if n == 0:\n",
    "        print(\"its a binary number\")"
   ]
  },
  {
   "cell_type": "code",
   "execution_count": 21,
   "metadata": {},
   "outputs": [
    {
     "name": "stdout",
     "output_type": "stream",
     "text": [
      "give the sentence i am the lion\n",
      "give the characteri\n",
      " am the lon\n"
     ]
    }
   ],
   "source": [
    "\"\"\" to remove a characcter in the given string\"\"\"\n",
    "str = input(\"give the sentence \")\n",
    "ch = input(\"give the character\")\n",
    "print(str.replace(ch,\"\"))"
   ]
  },
  {
   "cell_type": "code",
   "execution_count": 2,
   "metadata": {},
   "outputs": [
    {
     "name": "stdout",
     "output_type": "stream",
     "text": [
      "Enter number of elements : 3\n",
      "\n",
      "Enter the numbers : 123\n",
      "\n",
      "List is -  [123]\n",
      "123\n",
      "enter the string: tever\n",
      "e\n"
     ]
    }
   ],
   "source": [
    "import random\n",
    "n = int(input(\"Enter number of elements : \"))\n",
    "a = list(map(int,input(\"\\nEnter the numbers : \").strip().split()))[:n]\n",
    "print(\"\\nList is - \", a)\n",
    "print(random.choice(a))\n",
    "\n",
    "str = input(\"enter the string: \")\n",
    "print(random.choice(str))"
   ]
  },
  {
   "cell_type": "code",
   "execution_count": null,
   "metadata": {},
   "outputs": [],
   "source": [
    "\"\"\" absolute max \"\"\"\n",
    "lst = []\n",
    " \n",
    "n = int(input(\"Enter number of elements : \"))\n",
    "\n",
    "for i in range(0, n):\n",
    "    ele = int(input())\n",
    " \n",
    "    lst.append(ele) \n",
    "print(\"the max of the list is:\", -max(lst), -min(lst))\n"
   ]
  },
  {
   "cell_type": "code",
   "execution_count": null,
   "metadata": {},
   "outputs": [],
   "source": [
    "\"\"\" to print number pattern\"\"\"\n",
    "last_number = 6\n",
    "for row in range(1, last_number):\n",
    "    for coloum in range(1, row+1):\n",
    "        print(coloum, end=' ')\n",
    "        \n",
    "    print('')"
   ]
  },
  {
   "cell_type": "code",
   "execution_count": 3,
   "metadata": {},
   "outputs": [
    {
     "name": "stdout",
     "output_type": "stream",
     "text": [
      "enter the number3\n",
      "* \n",
      "** \n"
     ]
    }
   ],
   "source": [
    "\"\"\" to print the * pattern \"\"\"\n",
    "m = int(input(\"enter the number\"))\n",
    "for row in range(1, m):\n",
    "    for coloum in range(1, row+1):\n",
    "        coloum = '*'\n",
    "        print(coloum, end='')\n",
    "        \n",
    "    print(' ')"
   ]
  },
  {
   "cell_type": "code",
   "execution_count": null,
   "metadata": {},
   "outputs": [],
   "source": []
  }
 ],
 "metadata": {
  "kernelspec": {
   "display_name": "Python 3",
   "language": "python",
   "name": "python3"
  },
  "language_info": {
   "codemirror_mode": {
    "name": "ipython",
    "version": 3
   },
   "file_extension": ".py",
   "mimetype": "text/x-python",
   "name": "python",
   "nbconvert_exporter": "python",
   "pygments_lexer": "ipython3",
   "version": "3.8.5"
  }
 },
 "nbformat": 4,
 "nbformat_minor": 4
}
